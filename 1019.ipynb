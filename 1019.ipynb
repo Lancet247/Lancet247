{
 "cells": [
  {
   "cell_type": "code",
   "execution_count": 1,
   "id": "b39fd536",
   "metadata": {},
   "outputs": [
    {
     "name": "stdout",
     "output_type": "stream",
     "text": [
      "当前时间是：\n",
      " 2022-10-19 20:09:31\n",
      "2030年7月的日历为：\n",
      "         July 2030\n",
      "Sun Mon Tue Wed Thu Fri Sat\n",
      "      1   2   3   4   5   6\n",
      "  7   8   9  10  11  12  13\n",
      " 14  15  16  17  18  19  20\n",
      " 21  22  23  24  25  26  27\n",
      " 28  29  30  31\n",
      "今天日期为：星期 3\n"
     ]
    }
   ],
   "source": [
    "import calendar\n",
    "import time\n",
    "print(\"当前时间是：\\n\", time.strftime('%Y-%m-%d %H:%M:%S',time.localtime(time.time())))\n",
    "print(\"2030年7月的日历为：\" )\n",
    "calendar.setfirstweekday(firstweekday=6)\n",
    "calendar.prmonth(2030, 7, 3)\n",
    "date = calendar.weekday(2022,10,19)\n",
    "print(\"今天日期为：星期\", date+1)\n"
   ]
  },
  {
   "cell_type": "code",
   "execution_count": 2,
   "id": "0b49b5a3",
   "metadata": {},
   "outputs": [
    {
     "name": "stdout",
     "output_type": "stream",
     "text": [
      "输入数字454\n",
      "4 5 4\n",
      "和为 13\n"
     ]
    }
   ],
   "source": [
    "num = int(input(\"输入数字\"))\n",
    "num1 = num%10\n",
    "num2 = num//10%10\n",
    "num3 = int((num - num1 - 10*num2)/100)\n",
    "sumof = num1 + num2 + num3\n",
    "print(num1,num2,num3)\n",
    "print(\"和为\",sumof)"
   ]
  },
  {
   "cell_type": "code",
   "execution_count": 3,
   "id": "706ad545",
   "metadata": {},
   "outputs": [
    {
     "name": "stdout",
     "output_type": "stream",
     "text": [
      "直角边1：4\n",
      "直角边2：3\n",
      "斜边长为： 5.0\n"
     ]
    }
   ],
   "source": [
    "from math import *\n",
    "a = int(input(\"直角边1：\"))\n",
    "b = int(input(\"直角边2：\"))\n",
    "c= sqrt(a**2+b**2)\n",
    "print(\"斜边长为：\",c)\n"
   ]
  },
  {
   "cell_type": "code",
   "execution_count": null,
   "id": "ccdf9b1a",
   "metadata": {},
   "outputs": [],
   "source": []
  }
 ],
 "metadata": {
  "kernelspec": {
   "display_name": "Python 3 (ipykernel)",
   "language": "python",
   "name": "python3"
  },
  "language_info": {
   "codemirror_mode": {
    "name": "ipython",
    "version": 3
   },
   "file_extension": ".py",
   "mimetype": "text/x-python",
   "name": "python",
   "nbconvert_exporter": "python",
   "pygments_lexer": "ipython3",
   "version": "3.10.7"
  }
 },
 "nbformat": 4,
 "nbformat_minor": 5
}
