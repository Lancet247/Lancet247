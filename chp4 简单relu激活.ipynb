{
 "cells": [
  {
   "cell_type": "code",
   "execution_count": 13,
   "id": "85f6b838",
   "metadata": {},
   "outputs": [],
   "source": [
    "import tensorflow as tf"
   ]
  },
  {
   "cell_type": "code",
   "execution_count": 14,
   "id": "31f545f7",
   "metadata": {},
   "outputs": [
    {
     "name": "stderr",
     "output_type": "stream",
     "text": [
      "UsageError: unrecognized arguments: #直接显示图像\n"
     ]
    }
   ],
   "source": [
    "import pandas as pd\n",
    "import numpy as np\n",
    "import matplotlib.pyplot as plt\n",
    "%matplotlib inline #直接显示图像"
   ]
  },
  {
   "cell_type": "code",
   "execution_count": 19,
   "id": "73a4cbef",
   "metadata": {},
   "outputs": [],
   "source": [
    "data = pd.read_csv('./Advertising.csv')"
   ]
  },
  {
   "cell_type": "code",
   "execution_count": 20,
   "id": "9406c834",
   "metadata": {},
   "outputs": [
    {
     "data": {
      "text/html": [
       "<div>\n",
       "<style scoped>\n",
       "    .dataframe tbody tr th:only-of-type {\n",
       "        vertical-align: middle;\n",
       "    }\n",
       "\n",
       "    .dataframe tbody tr th {\n",
       "        vertical-align: top;\n",
       "    }\n",
       "\n",
       "    .dataframe thead th {\n",
       "        text-align: right;\n",
       "    }\n",
       "</style>\n",
       "<table border=\"1\" class=\"dataframe\">\n",
       "  <thead>\n",
       "    <tr style=\"text-align: right;\">\n",
       "      <th></th>\n",
       "      <th>Unnamed: 0</th>\n",
       "      <th>TV</th>\n",
       "      <th>radio</th>\n",
       "      <th>newspaper</th>\n",
       "      <th>sales</th>\n",
       "    </tr>\n",
       "  </thead>\n",
       "  <tbody>\n",
       "    <tr>\n",
       "      <th>0</th>\n",
       "      <td>1</td>\n",
       "      <td>230.1</td>\n",
       "      <td>37.8</td>\n",
       "      <td>69.2</td>\n",
       "      <td>22.1</td>\n",
       "    </tr>\n",
       "    <tr>\n",
       "      <th>1</th>\n",
       "      <td>2</td>\n",
       "      <td>44.5</td>\n",
       "      <td>39.3</td>\n",
       "      <td>45.1</td>\n",
       "      <td>10.4</td>\n",
       "    </tr>\n",
       "    <tr>\n",
       "      <th>2</th>\n",
       "      <td>3</td>\n",
       "      <td>17.2</td>\n",
       "      <td>45.9</td>\n",
       "      <td>69.3</td>\n",
       "      <td>9.3</td>\n",
       "    </tr>\n",
       "    <tr>\n",
       "      <th>3</th>\n",
       "      <td>4</td>\n",
       "      <td>151.5</td>\n",
       "      <td>41.3</td>\n",
       "      <td>58.5</td>\n",
       "      <td>18.5</td>\n",
       "    </tr>\n",
       "    <tr>\n",
       "      <th>4</th>\n",
       "      <td>5</td>\n",
       "      <td>180.8</td>\n",
       "      <td>10.8</td>\n",
       "      <td>58.4</td>\n",
       "      <td>12.9</td>\n",
       "    </tr>\n",
       "    <tr>\n",
       "      <th>...</th>\n",
       "      <td>...</td>\n",
       "      <td>...</td>\n",
       "      <td>...</td>\n",
       "      <td>...</td>\n",
       "      <td>...</td>\n",
       "    </tr>\n",
       "    <tr>\n",
       "      <th>195</th>\n",
       "      <td>196</td>\n",
       "      <td>38.2</td>\n",
       "      <td>3.7</td>\n",
       "      <td>13.8</td>\n",
       "      <td>7.6</td>\n",
       "    </tr>\n",
       "    <tr>\n",
       "      <th>196</th>\n",
       "      <td>197</td>\n",
       "      <td>94.2</td>\n",
       "      <td>4.9</td>\n",
       "      <td>8.1</td>\n",
       "      <td>9.7</td>\n",
       "    </tr>\n",
       "    <tr>\n",
       "      <th>197</th>\n",
       "      <td>198</td>\n",
       "      <td>177.0</td>\n",
       "      <td>9.3</td>\n",
       "      <td>6.4</td>\n",
       "      <td>12.8</td>\n",
       "    </tr>\n",
       "    <tr>\n",
       "      <th>198</th>\n",
       "      <td>199</td>\n",
       "      <td>283.6</td>\n",
       "      <td>42.0</td>\n",
       "      <td>66.2</td>\n",
       "      <td>25.5</td>\n",
       "    </tr>\n",
       "    <tr>\n",
       "      <th>199</th>\n",
       "      <td>200</td>\n",
       "      <td>232.1</td>\n",
       "      <td>8.6</td>\n",
       "      <td>8.7</td>\n",
       "      <td>13.4</td>\n",
       "    </tr>\n",
       "  </tbody>\n",
       "</table>\n",
       "<p>200 rows × 5 columns</p>\n",
       "</div>"
      ],
      "text/plain": [
       "     Unnamed: 0     TV  radio  newspaper  sales\n",
       "0             1  230.1   37.8       69.2   22.1\n",
       "1             2   44.5   39.3       45.1   10.4\n",
       "2             3   17.2   45.9       69.3    9.3\n",
       "3             4  151.5   41.3       58.5   18.5\n",
       "4             5  180.8   10.8       58.4   12.9\n",
       "..          ...    ...    ...        ...    ...\n",
       "195         196   38.2    3.7       13.8    7.6\n",
       "196         197   94.2    4.9        8.1    9.7\n",
       "197         198  177.0    9.3        6.4   12.8\n",
       "198         199  283.6   42.0       66.2   25.5\n",
       "199         200  232.1    8.6        8.7   13.4\n",
       "\n",
       "[200 rows x 5 columns]"
      ]
     },
     "execution_count": 20,
     "metadata": {},
     "output_type": "execute_result"
    }
   ],
   "source": [
    "data"
   ]
  },
  {
   "cell_type": "code",
   "execution_count": 21,
   "id": "c86b6923",
   "metadata": {},
   "outputs": [
    {
     "data": {
      "text/plain": [
       "<matplotlib.collections.PathCollection at 0x2bf52c53550>"
      ]
     },
     "execution_count": 21,
     "metadata": {},
     "output_type": "execute_result"
    },
    {
     "data": {
      "image/png": "[encoded data removed]",
      "text/plain": [
       "<Figure size 640x480 with 1 Axes>"
      ]
     },
     "metadata": {},
     "output_type": "display_data"
    }
   ],
   "source": [
    "plt.scatter(data.TV,data.sales)"
   ]
  },
  {
   "cell_type": "code",
   "execution_count": 22,
   "id": "1805e527",
   "metadata": {},
   "outputs": [
    {
     "data": {
      "text/plain": [
       "<matplotlib.collections.PathCollection at 0x2bf54e98220>"
      ]
     },
     "execution_count": 22,
     "metadata": {},
     "output_type": "execute_result"
    },
    {
     "data": {
      "image/png": "[encoded data removed]",
      "text/plain": [
       "<Figure size 640x480 with 1 Axes>"
      ]
     },
     "metadata": {},
     "output_type": "display_data"
    }
   ],
   "source": [
    "plt.scatter(data.radio,data.sales)"
   ]
  },
  {
   "cell_type": "code",
   "execution_count": 23,
   "id": "50665c78",
   "metadata": {},
   "outputs": [
    {
     "data": {
      "text/plain": [
       "<matplotlib.collections.PathCollection at 0x2bf54f0c3d0>"
      ]
     },
     "execution_count": 23,
     "metadata": {},
     "output_type": "execute_result"
    },
    {
     "data": {
      "image/png": "[encoded data removed]",
      "text/plain": [
       "<Figure size 640x480 with 1 Axes>"
      ]
     },
     "metadata": {},
     "output_type": "display_data"
    }
   ],
   "source": [
    "plt.scatter(data.newspaper,data.sales)"
   ]
  },
  {
   "cell_type": "code",
   "execution_count": 24,
   "id": "654ce138",
   "metadata": {},
   "outputs": [],
   "source": [
    "x = data. iloc[:, 1:-1]#取第二列开始到倒数第二列作为x\n",
    "y = data. iloc[:, -1]#取最后一列作为y"
   ]
  },
  {
   "cell_type": "code",
   "execution_count": 25,
   "id": "51aae8e1",
   "metadata": {},
   "outputs": [],
   "source": [
    "model = tf.keras.Sequential([tf.keras.layers.Dense(10,input_shape=(3,), activation='relu'),\n",
    "                            tf.keras.layers.Dense(1)]\n",
    ")"
   ]
  },
  {
   "cell_type": "code",
   "execution_count": 26,
   "id": "3d31d4a8",
   "metadata": {},
   "outputs": [
    {
     "name": "stdout",
     "output_type": "stream",
     "text": [
      "Model: \"sequential\"\n",
      "_________________________________________________________________\n",
      " Layer (type)                Output Shape              Param #   \n",
      "=================================================================\n",
      " dense (Dense)               (None, 10)                40        \n",
      "                                                                 \n",
      " dense_1 (Dense)             (None, 1)                 11        \n",
      "                                                                 \n",
      "=================================================================\n",
      "Total params: 51\n",
      "Trainable params: 51\n",
      "Non-trainable params: 0\n",
      "_________________________________________________________________\n"
     ]
    }
   ],
   "source": [
    "model.summary()"
   ]
  },
  {
   "cell_type": "code",
   "execution_count": 27,
   "id": "1b1e1cea",
   "metadata": {},
   "outputs": [],
   "source": [
    "model.compile(optimizer='adam',\n",
    "             loss='mse'\n",
    ")"
   ]
  },
  {
   "cell_type": "code",
   "execution_count": 28,
   "id": "3ba2968e",
   "metadata": {},
   "outputs": [
    {
     "name": "stdout",
     "output_type": "stream",
     "text": [
      "Epoch 1/100\n",
      "7/7 [==============================] - 0s 831us/step - loss: 4430.7080\n",
      "Epoch 2/100\n",
      "7/7 [==============================] - 0s 997us/step - loss: 3755.1335\n",
      "Epoch 3/100\n",
      "7/7 [==============================] - 0s 997us/step - loss: 3146.6653\n",
      "Epoch 4/100\n",
      "7/7 [==============================] - 0s 997us/step - loss: 2603.7764\n",
      "Epoch 5/100\n",
      "7/7 [==============================] - 0s 830us/step - loss: 2138.1709\n",
      "Epoch 6/100\n",
      "7/7 [==============================] - 0s 831us/step - loss: 1729.3208\n",
      "Epoch 7/100\n",
      "7/7 [==============================] - 0s 830us/step - loss: 1381.4303\n",
      "Epoch 8/100\n",
      "7/7 [==============================] - 0s 997us/step - loss: 1088.8715\n",
      "Epoch 9/100\n",
      "7/7 [==============================] - 0s 831us/step - loss: 855.9758\n",
      "Epoch 10/100\n",
      "7/7 [==============================] - 0s 997us/step - loss: 665.7859\n",
      "Epoch 11/100\n",
      "7/7 [==============================] - 0s 831us/step - loss: 510.9840\n",
      "Epoch 12/100\n",
      "7/7 [==============================] - 0s 831us/step - loss: 383.6308\n",
      "Epoch 13/100\n",
      "7/7 [==============================] - 0s 831us/step - loss: 285.3380\n",
      "Epoch 14/100\n",
      "7/7 [==============================] - 0s 831us/step - loss: 210.6499\n",
      "Epoch 15/100\n",
      "7/7 [==============================] - 0s 997us/step - loss: 153.9938\n",
      "Epoch 16/100\n",
      "7/7 [==============================] - 0s 996us/step - loss: 113.8950\n",
      "Epoch 17/100\n",
      "7/7 [==============================] - 0s 831us/step - loss: 84.5619\n",
      "Epoch 18/100\n",
      "7/7 [==============================] - 0s 831us/step - loss: 63.7670\n",
      "Epoch 19/100\n",
      "7/7 [==============================] - 0s 831us/step - loss: 50.4097\n",
      "Epoch 20/100\n",
      "7/7 [==============================] - 0s 831us/step - loss: 40.6709\n",
      "Epoch 21/100\n",
      "7/7 [==============================] - 0s 664us/step - loss: 34.2565\n",
      "Epoch 22/100\n",
      "7/7 [==============================] - 0s 830us/step - loss: 30.0489\n",
      "Epoch 23/100\n",
      "7/7 [==============================] - 0s 665us/step - loss: 27.2434\n",
      "Epoch 24/100\n",
      "7/7 [==============================] - 0s 831us/step - loss: 25.3678\n",
      "Epoch 25/100\n",
      "7/7 [==============================] - 0s 830us/step - loss: 23.8878\n",
      "Epoch 26/100\n",
      "7/7 [==============================] - 0s 831us/step - loss: 22.8127\n",
      "Epoch 27/100\n",
      "7/7 [==============================] - 0s 831us/step - loss: 21.8301\n",
      "Epoch 28/100\n",
      "7/7 [==============================] - 0s 831us/step - loss: 21.1656\n",
      "Epoch 29/100\n",
      "7/7 [==============================] - 0s 997us/step - loss: 20.4455\n",
      "Epoch 30/100\n",
      "7/7 [==============================] - 0s 664us/step - loss: 19.8768\n",
      "Epoch 31/100\n",
      "7/7 [==============================] - 0s 830us/step - loss: 19.3677\n",
      "Epoch 32/100\n",
      "7/7 [==============================] - 0s 831us/step - loss: 18.8132\n",
      "Epoch 33/100\n",
      "7/7 [==============================] - 0s 830us/step - loss: 18.3892\n",
      "Epoch 34/100\n",
      "7/7 [==============================] - 0s 997us/step - loss: 17.8603\n",
      "Epoch 35/100\n",
      "7/7 [==============================] - 0s 830us/step - loss: 17.4115\n",
      "Epoch 36/100\n",
      "7/7 [==============================] - 0s 1ms/step - loss: 17.0322\n",
      "Epoch 37/100\n",
      "7/7 [==============================] - 0s 828us/step - loss: 16.5830\n",
      "Epoch 38/100\n",
      "7/7 [==============================] - 0s 1ms/step - loss: 16.1689\n",
      "Epoch 39/100\n",
      "7/7 [==============================] - 0s 1ms/step - loss: 15.7844\n",
      "Epoch 40/100\n",
      "7/7 [==============================] - 0s 665us/step - loss: 15.3221\n",
      "Epoch 41/100\n",
      "7/7 [==============================] - 0s 997us/step - loss: 14.9651\n",
      "Epoch 42/100\n",
      "7/7 [==============================] - 0s 1ms/step - loss: 14.5767\n",
      "Epoch 43/100\n",
      "7/7 [==============================] - 0s 830us/step - loss: 14.2064\n",
      "Epoch 44/100\n",
      "7/7 [==============================] - 0s 997us/step - loss: 13.8609\n",
      "Epoch 45/100\n",
      "7/7 [==============================] - 0s 831us/step - loss: 13.4774\n",
      "Epoch 46/100\n",
      "7/7 [==============================] - 0s 997us/step - loss: 13.1332\n",
      "Epoch 47/100\n",
      "7/7 [==============================] - 0s 1ms/step - loss: 12.7865\n",
      "Epoch 48/100\n",
      "7/7 [==============================] - 0s 831us/step - loss: 12.4920\n",
      "Epoch 49/100\n",
      "7/7 [==============================] - 0s 997us/step - loss: 12.2008\n",
      "Epoch 50/100\n",
      "7/7 [==============================] - 0s 997us/step - loss: 11.9091\n",
      "Epoch 51/100\n",
      "7/7 [==============================] - 0s 830us/step - loss: 11.6438\n",
      "Epoch 52/100\n",
      "7/7 [==============================] - 0s 997us/step - loss: 11.3635\n",
      "Epoch 53/100\n",
      "7/7 [==============================] - 0s 996us/step - loss: 11.0967\n",
      "Epoch 54/100\n",
      "7/7 [==============================] - 0s 831us/step - loss: 10.8593\n",
      "Epoch 55/100\n",
      "7/7 [==============================] - 0s 1ms/step - loss: 10.5945\n",
      "Epoch 56/100\n",
      "7/7 [==============================] - 0s 1ms/step - loss: 10.3468\n",
      "Epoch 57/100\n",
      "7/7 [==============================] - 0s 997us/step - loss: 10.0861\n",
      "Epoch 58/100\n",
      "7/7 [==============================] - 0s 1ms/step - loss: 9.8539\n",
      "Epoch 59/100\n",
      "7/7 [==============================] - 0s 996us/step - loss: 9.6505\n",
      "Epoch 60/100\n",
      "7/7 [==============================] - 0s 831us/step - loss: 9.4358\n",
      "Epoch 61/100\n",
      "7/7 [==============================] - 0s 830us/step - loss: 9.2258\n",
      "Epoch 62/100\n",
      "7/7 [==============================] - 0s 831us/step - loss: 9.0288\n",
      "Epoch 63/100\n",
      "7/7 [==============================] - 0s 830us/step - loss: 8.8314\n",
      "Epoch 64/100\n",
      "7/7 [==============================] - 0s 830us/step - loss: 8.6591\n",
      "Epoch 65/100\n",
      "7/7 [==============================] - 0s 829us/step - loss: 8.4919\n",
      "Epoch 66/100\n",
      "7/7 [==============================] - 0s 831us/step - loss: 8.3251\n",
      "Epoch 67/100\n",
      "7/7 [==============================] - 0s 830us/step - loss: 8.1626\n",
      "Epoch 68/100\n",
      "7/7 [==============================] - 0s 665us/step - loss: 7.9960\n",
      "Epoch 69/100\n",
      "7/7 [==============================] - 0s 665us/step - loss: 7.8193\n",
      "Epoch 70/100\n",
      "7/7 [==============================] - 0s 830us/step - loss: 7.6369\n",
      "Epoch 71/100\n",
      "7/7 [==============================] - 0s 830us/step - loss: 7.4589\n",
      "Epoch 72/100\n",
      "7/7 [==============================] - 0s 830us/step - loss: 7.2836\n",
      "Epoch 73/100\n",
      "7/7 [==============================] - 0s 831us/step - loss: 7.1348\n",
      "Epoch 74/100\n",
      "7/7 [==============================] - 0s 831us/step - loss: 6.9732\n",
      "Epoch 75/100\n",
      "7/7 [==============================] - 0s 830us/step - loss: 6.8284\n",
      "Epoch 76/100\n",
      "7/7 [==============================] - 0s 830us/step - loss: 6.6794\n",
      "Epoch 77/100\n",
      "7/7 [==============================] - 0s 1ms/step - loss: 6.5352\n",
      "Epoch 78/100\n",
      "7/7 [==============================] - 0s 1ms/step - loss: 6.3931\n",
      "Epoch 79/100\n",
      "7/7 [==============================] - 0s 1ms/step - loss: 6.2571\n",
      "Epoch 80/100\n",
      "7/7 [==============================] - 0s 831us/step - loss: 6.1269\n",
      "Epoch 81/100\n",
      "7/7 [==============================] - 0s 665us/step - loss: 5.9801\n",
      "Epoch 82/100\n",
      "7/7 [==============================] - 0s 831us/step - loss: 5.8604\n",
      "Epoch 83/100\n",
      "7/7 [==============================] - 0s 997us/step - loss: 5.7498\n",
      "Epoch 84/100\n",
      "7/7 [==============================] - 0s 997us/step - loss: 5.6289\n",
      "Epoch 85/100\n",
      "7/7 [==============================] - 0s 831us/step - loss: 5.5215\n",
      "Epoch 86/100\n",
      "7/7 [==============================] - 0s 665us/step - loss: 5.4156\n",
      "Epoch 87/100\n",
      "7/7 [==============================] - 0s 996us/step - loss: 5.3042\n",
      "Epoch 88/100\n",
      "7/7 [==============================] - 0s 665us/step - loss: 5.2034\n",
      "Epoch 89/100\n",
      "7/7 [==============================] - 0s 830us/step - loss: 5.1033\n",
      "Epoch 90/100\n",
      "7/7 [==============================] - 0s 830us/step - loss: 5.0146\n",
      "Epoch 91/100\n",
      "7/7 [==============================] - 0s 830us/step - loss: 4.9172\n",
      "Epoch 92/100\n",
      "7/7 [==============================] - 0s 830us/step - loss: 4.8445\n",
      "Epoch 93/100\n",
      "7/7 [==============================] - 0s 830us/step - loss: 4.7640\n",
      "Epoch 94/100\n",
      "7/7 [==============================] - 0s 831us/step - loss: 4.6927\n",
      "Epoch 95/100\n",
      "7/7 [==============================] - 0s 997us/step - loss: 4.6186\n",
      "Epoch 96/100\n",
      "7/7 [==============================] - 0s 831us/step - loss: 4.5581\n",
      "Epoch 97/100\n",
      "7/7 [==============================] - 0s 831us/step - loss: 4.4976\n",
      "Epoch 98/100\n",
      "7/7 [==============================] - 0s 997us/step - loss: 4.4372\n",
      "Epoch 99/100\n",
      "7/7 [==============================] - 0s 830us/step - loss: 4.3805\n",
      "Epoch 100/100\n",
      "7/7 [==============================] - 0s 665us/step - loss: 4.3254\n"
     ]
    }
   ],
   "source": [
    "history = model.fit(x,y,epochs=100)"
   ]
  },
  {
   "cell_type": "code",
   "execution_count": 29,
   "id": "a5fcf0b2",
   "metadata": {},
   "outputs": [],
   "source": [
    "test = data.iloc[:10,1:-1]"
   ]
  },
  {
   "cell_type": "code",
   "execution_count": 30,
   "id": "f334b134",
   "metadata": {},
   "outputs": [
    {
     "name": "stdout",
     "output_type": "stream",
     "text": [
      "1/1 [==============================] - 0s 47ms/step\n"
     ]
    },
    {
     "data": {
      "text/plain": [
       "array([[21.314316 ],\n",
       "       [12.317953 ],\n",
       "       [10.602075 ],\n",
       "       [17.721622 ],\n",
       "       [11.268861 ],\n",
       "       [11.815307 ],\n",
       "       [11.2372675],\n",
       "       [11.711116 ],\n",
       "       [ 1.2995254],\n",
       "       [10.3615885]], dtype=float32)"
      ]
     },
     "execution_count": 30,
     "metadata": {},
     "output_type": "execute_result"
    }
   ],
   "source": [
    "model.predict(test)"
   ]
  },
  {
   "cell_type": "code",
   "execution_count": 31,
   "id": "f3b056fe",
   "metadata": {},
   "outputs": [],
   "source": [
    "test = data.iloc[:10,-1]"
   ]
  },
  {
   "cell_type": "code",
   "execution_count": 32,
   "id": "aa1dd493",
   "metadata": {},
   "outputs": [
    {
     "data": {
      "text/plain": [
       "0    22.1\n",
       "1    10.4\n",
       "2     9.3\n",
       "3    18.5\n",
       "4    12.9\n",
       "5     7.2\n",
       "6    11.8\n",
       "7    13.2\n",
       "8     4.8\n",
       "9    10.6\n",
       "Name: sales, dtype: float64"
      ]
     },
     "execution_count": 32,
     "metadata": {},
     "output_type": "execute_result"
    }
   ],
   "source": [
    "test"
   ]
  },
  {
   "cell_type": "code",
   "execution_count": 33,
   "id": "dde41790",
   "metadata": {},
   "outputs": [
    {
     "data": {
      "text/plain": [
       "dict_keys(['loss'])"
      ]
     },
     "execution_count": 33,
     "metadata": {},
     "output_type": "execute_result"
    }
   ],
   "source": [
    "history.history.keys()"
   ]
  },
  {
   "cell_type": "code",
   "execution_count": 34,
   "id": "a7d7b042",
   "metadata": {},
   "outputs": [
    {
     "data": {
      "text/plain": [
       "[<matplotlib.lines.Line2D at 0x2bf5c3f7fd0>]"
      ]
     },
     "execution_count": 34,
     "metadata": {},
     "output_type": "execute_result"
    },
    {
     "data": {
      "image/png": "[encoded data removed]",
      "text/plain": [
       "<Figure size 640x480 with 1 Axes>"
      ]
     },
     "metadata": {},
     "output_type": "display_data"
    }
   ],
   "source": [
    "plt.plot(history.epoch,history.history.get('loss'))"
   ]
  },
  {
   "cell_type": "code",
   "execution_count": null,
   "id": "cb01a05e",
   "metadata": {},
   "outputs": [],
   "source": []
  },
  {
   "cell_type": "code",
   "execution_count": null,
   "id": "8b779006",
   "metadata": {},
   "outputs": [],
   "source": []
  },
  {
   "cell_type": "code",
   "execution_count": null,
   "id": "f2e0cd49",
   "metadata": {},
   "outputs": [],
   "source": []
  },
  {
   "cell_type": "code",
   "execution_count": null,
   "id": "b9c8a8ae",
   "metadata": {},
   "outputs": [],
   "source": []
  },
  {
   "cell_type": "code",
   "execution_count": null,
   "id": "98631300",
   "metadata": {},
   "outputs": [],
   "source": []
  }
 ],
 "metadata": {
  "kernelspec": {
   "display_name": "Python 3 (ipykernel)",
   "language": "python",
   "name": "python3"
  },
  "language_info": {
   "codemirror_mode": {
    "name": "ipython",
    "version": 3
   },
   "file_extension": ".py",
   "mimetype": "text/x-python",
   "name": "python",
   "nbconvert_exporter": "python",
   "pygments_lexer": "ipython3",
   "version": "3.10.7"
  }
 },
 "nbformat": 4,
 "nbformat_minor": 5
}
