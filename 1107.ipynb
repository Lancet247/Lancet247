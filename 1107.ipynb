{
 "cells": [
  {
   "cell_type": "code",
   "execution_count": 10,
   "id": "f3d34118",
   "metadata": {},
   "outputs": [
    {
     "name": "stdout",
     "output_type": "stream",
     "text": [
      "1*1= 1  \n",
      "\n",
      "2*1= 1  2*2= 2  \n",
      "\n",
      "3*1= 1  3*2= 2  3*3= 3  \n",
      "\n",
      "4*1= 1  4*2= 2  4*3= 3  4*4= 4  \n",
      "\n",
      "5*1= 1  5*2= 2  5*3= 3  5*4= 4  5*5= 5  \n",
      "\n",
      "6*1= 1  6*2= 2  6*3= 3  6*4= 4  6*5= 5  6*6= 6  \n",
      "\n",
      "7*1= 1  7*2= 2  7*3= 3  7*4= 4  7*5= 5  7*6= 6  7*7= 7  \n",
      "\n",
      "8*1= 1  8*2= 2  8*3= 3  8*4= 4  8*5= 5  8*6= 6  8*7= 7  8*8= 8  \n",
      "\n",
      "9*1= 1  9*2= 2  9*3= 3  9*4= 4  9*5= 5  9*6= 6  9*7= 7  9*8= 8  9*9= 9  \n",
      "\n"
     ]
    }
   ],
   "source": [
    "#九九乘法表\n",
    "#柳强\n",
    "#print(\" \"*(((6+2)*8+6)//2-len(\"九九乘法表\"))+\"九九乘法表\")#((6+2)*8+6)//2为当中位置\n",
    "#print('{0:^65}'.format('九九乘法表'))#用单引号，:^65为格式限定宽65字符居中\n",
    "for i in range(1,10):\n",
    "    for j in range(1,i+1):\n",
    "        print('{0}*{1}={2:2}'.format(i,j,i*j), end=\"  \")#用format对字符串格式限定\n",
    "#        print(\"%s*%s=%2s\" % (i,j,i*j), end=\"\\t\")#用%对字符串格式限定\n",
    "    print(\"\\n\")\n"
   ]
  },
  {
   "cell_type": "code",
   "execution_count": 1,
   "id": "c7bd364a",
   "metadata": {},
   "outputs": [
    {
     "name": "stdout",
     "output_type": "stream",
     "text": [
      "\n",
      "搬砖问题：72块砖，共72人搬，每次男的搬4块，女的搬3块，2个小孩抬1块，\n",
      "          要求一次全部搬完。需要的男、女、小孩的人数为：\n",
      "男人：1 人,女人：13人,小孩：58人\n",
      "男人：6 人,女人：6 人,小孩：60人\n"
     ]
    }
   ],
   "source": [
    "#搬砖问题\n",
    "#柳强\n",
    "print(\"\"\"\n",
    "搬砖问题：72块砖，共72人搬，每次男的搬4块，女的搬3块，2个小孩抬1块，\n",
    "          要求一次全部搬完。需要的男、女、小孩的人数为：\"\"\")\n",
    "for man in range(1,73):\n",
    "     for child in range(1,73):\n",
    "          for woman in range(1,73):\n",
    "               if man+woman+child==72 and man*4+woman*3+child*0.5==72:\n",
    "                    print(\"男人：{0:<2}人,女人：{1:<2}人,小孩：{2:<2}人\".format(man,woman,child)) #{0:<2}表示format函数中索引号为0项，占2个字符宽度左对齐\n"
   ]
  },
  {
   "cell_type": "code",
   "execution_count": 2,
   "id": "af594018",
   "metadata": {},
   "outputs": [
    {
     "name": "stdout",
     "output_type": "stream",
     "text": [
      "请输入您的成绩：20\n",
      "成绩：20，等级：D\n",
      "继续输入成绩？（y/n）n\n"
     ]
    }
   ],
   "source": [
    "while (1):\n",
    "     grade=int(input(\"请输入您的成绩：\"))\n",
    "     if 100>=grade>= 85:\n",
    "          print(\"成绩：%d，等级：A\" %grade)\n",
    "     elif 85>=grade>= 70:\n",
    "          print(\"成绩：%d，等级：B\" %grade)\n",
    "     elif 70>=grade>= 60:\n",
    "          print(\"成绩：%d，等级：C\" %grade)\n",
    "     elif 0<=grade<60:\n",
    "          print(\"成绩：%d，等级：D\" %grade)\n",
    "     else:\n",
    "          print(\"输入成绩出错，请输入0-100间的成绩值\")\n",
    "     flage=input(\"继续输入成绩？（y/n）\")\n",
    "     if flage==\"n\":\n",
    "          break"
   ]
  },
  {
   "cell_type": "code",
   "execution_count": 100,
   "id": "ac5f2717",
   "metadata": {},
   "outputs": [
    {
     "name": "stdout",
     "output_type": "stream",
     "text": [
      " 2  3  4  5  7 11 13 17 19 23 \n",
      "29 31 37 41 43 47 53 59 61 67 \n",
      "71 73 79 83 89 97 "
     ]
    }
   ],
   "source": [
    "line=0\n",
    "for n in range(2,101):\n",
    "     flag=-1\n",
    "     for m in range(2,n//2):\n",
    "          if n % m == 0:\n",
    "               flag = 1\n",
    "               break\n",
    "     if flag==-1:\n",
    "          print('{0:2}'.format(n),end = ' ')\n",
    "          line+=1\n",
    "          if line%10==0:\n",
    "               print(end='\\n')"
   ]
  },
  {
   "cell_type": "code",
   "execution_count": 36,
   "id": "b3c8c01a",
   "metadata": {},
   "outputs": [
    {
     "name": "stdout",
     "output_type": "stream",
     "text": [
      " 2   3   5   7  11  13  17  19  23  29  31  37  41  43  47  53  59  61  67  71  73  79  83  89  97  一共有 25 个素数\n"
     ]
    }
   ],
   "source": [
    "cnt = 0;\n",
    "for n in range(2,101):\n",
    "    flag = 0;\n",
    "    math.sqrt(n)\n",
    "    for m in range(2,n-1):\n",
    "        if (n%m==0):\n",
    "            flag = 1;\n",
    "            break;\n",
    "    if (flag == 0):\n",
    "            cnt+=1\n",
    "            print('{:2}'.format(n),end='  ')\n",
    "print(\"一共有\",cnt,\"个素数\")\n",
    "    \n",
    "    "
   ]
  },
  {
   "cell_type": "code",
   "execution_count": 46,
   "id": "de111fb2",
   "metadata": {},
   "outputs": [
    {
     "name": "stdout",
     "output_type": "stream",
     "text": [
      "请输入上半部（含最长行）的行数：8\n",
      "* \n",
      "* * \n",
      "* * * \n",
      "* * * * \n",
      "* * * * * \n",
      "* * * * * * \n",
      "* * * * * * * \n",
      "* * * * * * * * \n",
      "* * * * * * * \n",
      "* * * * * * \n",
      "* * * * * \n",
      "* * * * \n",
      "* * * \n",
      "* * \n",
      "* \n"
     ]
    }
   ],
   "source": [
    "try:\n",
    "    n=int(input(\"请输入上半部（含最长行）的行数：\"))\n",
    "    print(\"*\"*n)\n",
    "    print(\"输入数据出错！\")\n",
    "else:\n",
    "    i = 0\n",
    "    while i<2*n:\n",
    "        if i<=n:\n",
    "            a=\"* \"*i\n",
    "            print(a)\n",
    "        else:\n",
    "            a=\"* \"*(2*n-i) \n",
    "            print(a)\n",
    "        i+=1\n"
   ]
  },
  {
   "cell_type": "code",
   "execution_count": 43,
   "id": "f1dcd88c",
   "metadata": {},
   "outputs": [
    {
     "name": "stdout",
     "output_type": "stream",
     "text": [
      "* \n",
      "* * \n",
      "* * * \n",
      "* * * * \n",
      "* * * * * \n",
      "* * * * \n",
      "* * * \n",
      "* * \n",
      "* \n"
     ]
    }
   ],
   "source": [
    "i = 1;\n",
    "while i <= 9:\n",
    "    if i <= 5:\n",
    "        print('* '*i)\n",
    "    else:\n",
    "        print('* '*(10 - i))\n",
    "    i += 1"
   ]
  },
  {
   "cell_type": "code",
   "execution_count": 53,
   "id": "39e227b1",
   "metadata": {},
   "outputs": [
    {
     "name": "stdout",
     "output_type": "stream",
     "text": [
      "请输入一个年份：2000\n",
      "2000 是闰年\n"
     ]
    }
   ],
   "source": [
    "y=input(\"请输入一个年份：\")\n",
    "year=int(y)\n",
    "if year%4==0 and year%100!=0:\n",
    "    print(year,\"是闰年\")\n",
    "elif year%400==0:\n",
    "    print(year,\"是闰年\")\n",
    "else:\n",
    "    print(year,\" 不是闰年\")\n"
   ]
  },
  {
   "cell_type": "code",
   "execution_count": 99,
   "id": "4dd5e9a5",
   "metadata": {},
   "outputs": [
    {
     "name": "stdout",
     "output_type": "stream",
     "text": [
      "请输入一个正整数：4\n",
      "阶乘之和为： 33\n"
     ]
    }
   ],
   "source": [
    "n=int(input(\"请输入一个正整数：\"))\n",
    "total=0\n",
    "a = 1\n",
    "for i in range(1, n+1):\n",
    "    a = a*i\n",
    "    total = total+a\n",
    "print(\"阶乘之和为：\", total)"
   ]
  },
  {
   "cell_type": "code",
   "execution_count": 113,
   "id": "0187f205",
   "metadata": {},
   "outputs": [
    {
     "name": "stdout",
     "output_type": "stream",
     "text": [
      "请输入五位数:12546\n",
      "12546 不是回文数.\n",
      "12546 是回文数.\n"
     ]
    }
   ],
   "source": [
    "a = input(\"请输入五位数:\")\n",
    "n = len(a)\n",
    "for i in range (1,n//2):\n",
    "    if a[i-1] != a[-i]:\n",
    "        print(a,\"不是回文数.\")\n",
    "        break\n",
    "else:\n",
    "    print(a,\"是回文数.\")"
   ]
  },
  {
   "cell_type": "code",
   "execution_count": null,
   "id": "f78fd71b",
   "metadata": {},
   "outputs": [],
   "source": []
  },
  {
   "cell_type": "code",
   "execution_count": null,
   "id": "48a9a058",
   "metadata": {},
   "outputs": [],
   "source": []
  }
 ],
 "metadata": {
  "kernelspec": {
   "display_name": "Python 3 (ipykernel)",
   "language": "python",
   "name": "python3"
  },
  "language_info": {
   "codemirror_mode": {
    "name": "ipython",
    "version": 3
   },
   "file_extension": ".py",
   "mimetype": "text/x-python",
   "name": "python",
   "nbconvert_exporter": "python",
   "pygments_lexer": "ipython3",
   "version": "3.10.7"
  }
 },
 "nbformat": 4,
 "nbformat_minor": 5
}
