{
 "cells": [
  {
   "cell_type": "code",
   "execution_count": 6,
   "id": "3d613ebd",
   "metadata": {},
   "outputs": [
    {
     "name": "stdout",
     "output_type": "stream",
     "text": [
      "1.6348839001848923\n",
      "0.00010203040506070809\n"
     ]
    }
   ],
   "source": [
    "#右三角形星\n",
    "#张乐天\n",
    "\n",
    "n = 0\n",
    "e = 0\n",
    "m = 1\n",
    "for m in range(1,100):\n",
    "    n += 1\n",
    "    k = 1 / (n * m) \n",
    "    e = e + k\n",
    "    if(k < 1*10^(-5)):\n",
    "        break\n",
    "print(e)\n",
    "print(k)"
   ]
  },
  {
   "cell_type": "code",
   "execution_count": 10,
   "id": "e9c4e012",
   "metadata": {},
   "outputs": [
    {
     "name": "stdout",
     "output_type": "stream",
     "text": [
      "请输入数字个数：5\n",
      "1\n",
      "1\n",
      "2\n",
      "3\n",
      "5\n"
     ]
    }
   ],
   "source": [
    "#斐波那契数列\n",
    "#张乐天\n",
    "\n",
    "n = 0\n",
    "m = 1\n",
    "cnt = 0\n",
    "lp = int(input(\"请输入数字个数：\"))\n",
    "print(\"1\")\n",
    "for cnt in range(1,lp):\n",
    "    cnt += 1\n",
    "    out = m + n\n",
    "    n = m\n",
    "    m = out\n",
    "    print(out)"
   ]
  },
  {
   "cell_type": "code",
   "execution_count": 12,
   "id": "20a955a3",
   "metadata": {},
   "outputs": [
    {
     "name": "stdout",
     "output_type": "stream",
     "text": [
      "请输入腿的总数：38\n",
      "兔子共 1 只\n",
      "鸡共 17 只\n",
      "兔子共 2 只\n",
      "鸡共 15 只\n",
      "兔子共 3 只\n",
      "鸡共 13 只\n",
      "兔子共 4 只\n",
      "鸡共 11 只\n",
      "兔子共 5 只\n",
      "鸡共 9 只\n",
      "兔子共 6 只\n",
      "鸡共 7 只\n",
      "兔子共 7 只\n",
      "鸡共 5 只\n",
      "兔子共 8 只\n",
      "鸡共 3 只\n",
      "兔子共 9 只\n",
      "鸡共 1 只\n"
     ]
    }
   ],
   "source": [
    "#鸡兔同笼\n",
    "#张乐天\n",
    "\n",
    "num = int(input(\"请输入腿的总数：\"))\n",
    "for rab in range(1,num):\n",
    "    for chk in range(1,num):\n",
    "        if 4 * rab + 2 * chk == num:\n",
    "            print(\"兔子共\",rab,\"只\")\n",
    "            print(\"鸡共\",chk,\"只\")"
   ]
  },
  {
   "cell_type": "code",
   "execution_count": 41,
   "id": "d2e5add1",
   "metadata": {},
   "outputs": [
    {
     "name": "stdout",
     "output_type": "stream",
     "text": [
      "153\n",
      "370\n",
      "371\n",
      "407\n"
     ]
    }
   ],
   "source": [
    "#水仙花数\n",
    "#张乐天\n",
    "num = 100\n",
    "for num in range (100,1000):\n",
    "    num1 = num % 10\n",
    "    num2 = int(((num - num % 10) % 100) / 10)\n",
    "    num3 = int((num - num1 - num2 * 10) / 100)\n",
    "    #print(num1,num2,num3)\n",
    "    if (num1 ** 3 + num2 ** 3 + num3 ** 3) == num:\n",
    "        print(num)\n",
    "    "
   ]
  },
  {
   "cell_type": "code",
   "execution_count": 66,
   "id": "c1e9a9d3",
   "metadata": {},
   "outputs": [
    {
     "name": "stdout",
     "output_type": "stream",
     "text": [
      "123\n",
      "124\n",
      "132\n",
      "134\n",
      "142\n",
      "143\n",
      "213\n",
      "214\n",
      "231\n",
      "234\n",
      "241\n",
      "243\n",
      "312\n",
      "314\n",
      "321\n",
      "324\n",
      "341\n",
      "342\n",
      "412\n",
      "413\n",
      "421\n",
      "423\n",
      "431\n",
      "432\n"
     ]
    }
   ],
   "source": [
    "#三位数组合\n",
    "#张乐天\n",
    "\n",
    "num = 100\n",
    "test = [1,2,3,4]\n",
    "for num in range(100,1000):\n",
    "    num1 = num % 10\n",
    "    num2 = int(((num - num % 10) % 100) / 10)\n",
    "    num3 = int((num - num1 - num2 * 10) / 100)\n",
    "    if num1 != num2 and num2 != num3 and num3 != num1:#三位都不等的三位数\n",
    "        if num1 in test and num2 in test and num3 in test:\n",
    "            print(num)"
   ]
  },
  {
   "cell_type": "code",
   "execution_count": 71,
   "id": "84f5b40c",
   "metadata": {},
   "outputs": [
    {
     "name": "stdout",
     "output_type": "stream",
     "text": [
      "请输入成绩：80\n",
      "继续输入？（y/n）：y\n",
      "请输入成绩：78\n",
      "继续输入？（y/n）：n\n",
      "79.0\n"
     ]
    }
   ],
   "source": [
    "#求平均分\n",
    "#张乐天\n",
    "\n",
    "score = 0\n",
    "cnt = 0\n",
    "while(1):\n",
    "    try:\n",
    "        n = float(input(\"请输入成绩：\"))\n",
    "    except ValueError:\n",
    "        print(\"请正确输入成绩\")\n",
    "    else:\n",
    "        score = score + n\n",
    "        cnt += 1 \n",
    "        will = input(\"继续输入？（y/n）：\")\n",
    "        if(will == 'n'):\n",
    "            break\n",
    "print(score/cnt)\n",
    "        "
   ]
  },
  {
   "cell_type": "code",
   "execution_count": 73,
   "id": "46a1751d",
   "metadata": {},
   "outputs": [
    {
     "name": "stdout",
     "output_type": "stream",
     "text": [
      "请输入整数：la\n",
      "pythonpython\n"
     ]
    }
   ],
   "source": [
    "la = 'python'\n",
    "try:\n",
    "  s = eval(input('请输入整数：'))\n",
    "  ls = s*2\n",
    "  print(ls)\n",
    "except:\n",
    "  print('请输入整数')\n"
   ]
  },
  {
   "cell_type": "code",
   "execution_count": 81,
   "id": "4bc069e1",
   "metadata": {},
   "outputs": [
    {
     "name": "stdout",
     "output_type": "stream",
     "text": [
      "ababab"
     ]
    }
   ],
   "source": [
    "for i in range(3):\n",
    "  for s in \"abcd\":\n",
    "     if s==\"c\":\n",
    "       break\n",
    "     print (s,end=\"\")\n"
   ]
  },
  {
   "cell_type": "code",
   "execution_count": null,
   "id": "dab11b09",
   "metadata": {},
   "outputs": [],
   "source": []
  }
 ],
 "metadata": {
  "kernelspec": {
   "display_name": "Python 3 (ipykernel)",
   "language": "python",
   "name": "python3"
  },
  "language_info": {
   "codemirror_mode": {
    "name": "ipython",
    "version": 3
   },
   "file_extension": ".py",
   "mimetype": "text/x-python",
   "name": "python",
   "nbconvert_exporter": "python",
   "pygments_lexer": "ipython3",
   "version": "3.10.7"
  }
 },
 "nbformat": 4,
 "nbformat_minor": 5
}
