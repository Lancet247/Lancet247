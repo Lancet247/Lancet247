{
 "cells": [
  {
   "cell_type": "code",
   "execution_count": 1,
   "id": "087c0669",
   "metadata": {},
   "outputs": [],
   "source": [
    "from tensorflow.keras.models import load_model\n",
    "from tensorflow.keras.preprocessing import image\n",
    "import numpy as np"
   ]
  },
  {
   "cell_type": "code",
   "execution_count": 2,
   "id": "aa4d7ab0",
   "metadata": {},
   "outputs": [],
   "source": [
    "model = load_model(\"cats_and_dogs_small_cov.h5\")"
   ]
  },
  {
   "cell_type": "code",
   "execution_count": 6,
   "id": "170bd49c",
   "metadata": {},
   "outputs": [],
   "source": [
    "file_path='E:/prgm/tensorflow/kaggle_dogs_cats/test1/1420.jpg'#文件位置\n",
    "img = image.load_img(file_path, target_size=(150, 150))\n",
    "img_tensor = image.img_to_array(img)\n",
    "img_tensor=np.expand_dims(img_tensor,axis=0)\n",
    "img_tensor/=255."
   ]
  },
  {
   "cell_type": "code",
   "execution_count": 7,
   "id": "30b30cf5",
   "metadata": {},
   "outputs": [
    {
     "name": "stdout",
     "output_type": "stream",
     "text": [
      "1/1 [==============================] - 0s 50ms/step\n",
      "狗\n"
     ]
    }
   ],
   "source": [
    "prediction=model.predict(img_tensor) \n",
    "if prediction>0.5:\n",
    "    print('狗' )\n",
    "else:\n",
    "    print('猫' )"
   ]
  },
  {
   "cell_type": "code",
   "execution_count": null,
   "id": "c6c84c4a",
   "metadata": {},
   "outputs": [],
   "source": []
  },
  {
   "cell_type": "code",
   "execution_count": null,
   "id": "96cab507",
   "metadata": {},
   "outputs": [],
   "source": []
  }
 ],
 "metadata": {
  "kernelspec": {
   "display_name": "Python 3 (ipykernel)",
   "language": "python",
   "name": "python3"
  },
  "language_info": {
   "codemirror_mode": {
    "name": "ipython",
    "version": 3
   },
   "file_extension": ".py",
   "mimetype": "text/x-python",
   "name": "python",
   "nbconvert_exporter": "python",
   "pygments_lexer": "ipython3",
   "version": "3.10.7"
  }
 },
 "nbformat": 4,
 "nbformat_minor": 5
}
